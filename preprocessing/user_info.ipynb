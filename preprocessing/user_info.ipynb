{
 "cells": [
  {
   "cell_type": "code",
   "execution_count": 1,
   "metadata": {},
   "outputs": [],
   "source": [
    "import os\n",
    "import sys\n",
    "sys.path.append('../')\n",
    "\n",
    "from sklearn.model_selection import train_test_split\n",
    "import pandas as pd\n",
    "\n",
    "import core.config as conf"
   ]
  },
  {
   "cell_type": "code",
   "execution_count": 2,
   "metadata": {},
   "outputs": [],
   "source": [
    "path = conf.dataset_path"
   ]
  },
  {
   "cell_type": "code",
   "execution_count": 3,
   "metadata": {},
   "outputs": [],
   "source": [
    "df = pd.read_csv(f'{path}' + 'binary_ratings.csv')"
   ]
  },
  {
   "cell_type": "code",
   "execution_count": 4,
   "metadata": {},
   "outputs": [],
   "source": [
    "df = df.dropna()"
   ]
  },
  {
   "cell_type": "code",
   "execution_count": 5,
   "metadata": {},
   "outputs": [],
   "source": [
    "user_info = df['binary_rating'].groupby(df['user_id']).mean().to_frame()\n",
    "user_info = user_info.reset_index()"
   ]
  },
  {
   "cell_type": "code",
   "execution_count": 6,
   "metadata": {},
   "outputs": [],
   "source": [
    "user_info.columns = [\"user_id\", \"user_mean_rating\"]"
   ]
  },
  {
   "cell_type": "code",
   "execution_count": 7,
   "metadata": {},
   "outputs": [],
   "source": [
    "read_book_lst = df.groupby('user_id')['book_id'].apply(list)"
   ]
  },
  {
   "cell_type": "code",
   "execution_count": 8,
   "metadata": {},
   "outputs": [
    {
     "data": {
      "text/plain": [
       "user_id\n",
       "1                                       [1180, 4893, 6285]\n",
       "2                                       [8034, 8855, 9762]\n",
       "3                                             [9014, 9049]\n",
       "4                                       [3273, 3469, 8464]\n",
       "5                           [4829, 6646, 6703, 7487, 8072]\n",
       "                               ...                        \n",
       "53420                 [4086, 4625, 5651, 6538, 9149, 9171]\n",
       "53421     [6076, 7278, 8194, 8513, 9254, 9334, 9498, 9727]\n",
       "53422    [1780, 1904, 2110, 2300, 2712, 3424, 3960, 407...\n",
       "53423                                         [4984, 8712]\n",
       "53424    [1109, 3602, 4214, 4483, 5301, 6455, 7212, 750...\n",
       "Name: book_id, Length: 53424, dtype: object"
      ]
     },
     "execution_count": 8,
     "metadata": {},
     "output_type": "execute_result"
    }
   ],
   "source": [
    "read_book_lst"
   ]
  },
  {
   "cell_type": "code",
   "execution_count": 9,
   "metadata": {},
   "outputs": [],
   "source": [
    "user_info = pd.merge(user_info, read_book_lst, on='user_id')"
   ]
  },
  {
   "cell_type": "code",
   "execution_count": 15,
   "metadata": {},
   "outputs": [
    {
     "data": {
      "text/html": [
       "<div>\n",
       "<style scoped>\n",
       "    .dataframe tbody tr th:only-of-type {\n",
       "        vertical-align: middle;\n",
       "    }\n",
       "\n",
       "    .dataframe tbody tr th {\n",
       "        vertical-align: top;\n",
       "    }\n",
       "\n",
       "    .dataframe thead th {\n",
       "        text-align: right;\n",
       "    }\n",
       "</style>\n",
       "<table border=\"1\" class=\"dataframe\">\n",
       "  <thead>\n",
       "    <tr style=\"text-align: right;\">\n",
       "      <th></th>\n",
       "      <th>user_id</th>\n",
       "      <th>user_mean_rating</th>\n",
       "      <th>book_id</th>\n",
       "    </tr>\n",
       "  </thead>\n",
       "  <tbody>\n",
       "    <tr>\n",
       "      <th>0</th>\n",
       "      <td>1</td>\n",
       "      <td>0.666667</td>\n",
       "      <td>[1180, 4893, 6285]</td>\n",
       "    </tr>\n",
       "    <tr>\n",
       "      <th>1</th>\n",
       "      <td>2</td>\n",
       "      <td>1.000000</td>\n",
       "      <td>[8034, 8855, 9762]</td>\n",
       "    </tr>\n",
       "    <tr>\n",
       "      <th>2</th>\n",
       "      <td>3</td>\n",
       "      <td>0.000000</td>\n",
       "      <td>[9014, 9049]</td>\n",
       "    </tr>\n",
       "    <tr>\n",
       "      <th>3</th>\n",
       "      <td>4</td>\n",
       "      <td>0.666667</td>\n",
       "      <td>[3273, 3469, 8464]</td>\n",
       "    </tr>\n",
       "    <tr>\n",
       "      <th>4</th>\n",
       "      <td>5</td>\n",
       "      <td>0.800000</td>\n",
       "      <td>[4829, 6646, 6703, 7487, 8072]</td>\n",
       "    </tr>\n",
       "    <tr>\n",
       "      <th>...</th>\n",
       "      <td>...</td>\n",
       "      <td>...</td>\n",
       "      <td>...</td>\n",
       "    </tr>\n",
       "    <tr>\n",
       "      <th>53419</th>\n",
       "      <td>53420</td>\n",
       "      <td>0.333333</td>\n",
       "      <td>[4086, 4625, 5651, 6538, 9149, 9171]</td>\n",
       "    </tr>\n",
       "    <tr>\n",
       "      <th>53420</th>\n",
       "      <td>53421</td>\n",
       "      <td>1.000000</td>\n",
       "      <td>[6076, 7278, 8194, 8513, 9254, 9334, 9498, 9727]</td>\n",
       "    </tr>\n",
       "    <tr>\n",
       "      <th>53421</th>\n",
       "      <td>53422</td>\n",
       "      <td>0.888889</td>\n",
       "      <td>[1780, 1904, 2110, 2300, 2712, 3424, 3960, 407...</td>\n",
       "    </tr>\n",
       "    <tr>\n",
       "      <th>53422</th>\n",
       "      <td>53423</td>\n",
       "      <td>1.000000</td>\n",
       "      <td>[4984, 8712]</td>\n",
       "    </tr>\n",
       "    <tr>\n",
       "      <th>53423</th>\n",
       "      <td>53424</td>\n",
       "      <td>0.937500</td>\n",
       "      <td>[1109, 3602, 4214, 4483, 5301, 6455, 7212, 750...</td>\n",
       "    </tr>\n",
       "  </tbody>\n",
       "</table>\n",
       "<p>53424 rows × 3 columns</p>\n",
       "</div>"
      ],
      "text/plain": [
       "       user_id  user_mean_rating  \\\n",
       "0            1          0.666667   \n",
       "1            2          1.000000   \n",
       "2            3          0.000000   \n",
       "3            4          0.666667   \n",
       "4            5          0.800000   \n",
       "...        ...               ...   \n",
       "53419    53420          0.333333   \n",
       "53420    53421          1.000000   \n",
       "53421    53422          0.888889   \n",
       "53422    53423          1.000000   \n",
       "53423    53424          0.937500   \n",
       "\n",
       "                                                 book_id  \n",
       "0                                     [1180, 4893, 6285]  \n",
       "1                                     [8034, 8855, 9762]  \n",
       "2                                           [9014, 9049]  \n",
       "3                                     [3273, 3469, 8464]  \n",
       "4                         [4829, 6646, 6703, 7487, 8072]  \n",
       "...                                                  ...  \n",
       "53419               [4086, 4625, 5651, 6538, 9149, 9171]  \n",
       "53420   [6076, 7278, 8194, 8513, 9254, 9334, 9498, 9727]  \n",
       "53421  [1780, 1904, 2110, 2300, 2712, 3424, 3960, 407...  \n",
       "53422                                       [4984, 8712]  \n",
       "53423  [1109, 3602, 4214, 4483, 5301, 6455, 7212, 750...  \n",
       "\n",
       "[53424 rows x 3 columns]"
      ]
     },
     "execution_count": 15,
     "metadata": {},
     "output_type": "execute_result"
    }
   ],
   "source": [
    "user_info"
   ]
  },
  {
   "cell_type": "code",
   "execution_count": 14,
   "metadata": {},
   "outputs": [],
   "source": [
    "user_info.to_csv(path +'user_info.csv', index = False)"
   ]
  },
  {
   "cell_type": "code",
   "execution_count": null,
   "metadata": {},
   "outputs": [],
   "source": []
  }
 ],
 "metadata": {
  "kernelspec": {
   "display_name": "Python 3",
   "language": "python",
   "name": "python3"
  },
  "language_info": {
   "codemirror_mode": {
    "name": "ipython",
    "version": 3
   },
   "file_extension": ".py",
   "mimetype": "text/x-python",
   "name": "python",
   "nbconvert_exporter": "python",
   "pygments_lexer": "ipython3",
   "version": "3.8.5"
  }
 },
 "nbformat": 4,
 "nbformat_minor": 4
}
